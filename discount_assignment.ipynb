{
 "cells": [
  {
   "cell_type": "markdown",
   "id": "6f65f3a4",
   "metadata": {},
   "source": [
    "# 🧮 Discount Calculator Assignment\n",
    "\n",
    "This Jupyter Notebook contains a Python function to calculate the final price after applying a discount. The discount is only applied if it is **20% or higher**. Otherwise, the original price is returned."
   ]
  },
  {
   "cell_type": "code",
   "execution_count": 1,
   "id": "39e4264d",
   "metadata": {},
   "outputs": [],
   "source": [
    "def calculate_discount(price, discount_percent):\n",
    "    \"\"\"\n",
    "    Calculates the final price after applying a discount.\n",
    "    Only applies the discount if it is 20% or higher.\n",
    "\n",
    "    Parameters:\n",
    "        price (float): The original price of the item.\n",
    "        discount_percent (float): The discount percentage.\n",
    "\n",
    "    Returns:\n",
    "        float: Final price after applying discount or the original price.\n",
    "    \"\"\"\n",
    "    if discount_percent >= 20:\n",
    "        discount_amount = price * (discount_percent / 100)\n",
    "        return price - discount_amount\n",
    "    else:\n",
    "        return price"
   ]
  },
  {
   "cell_type": "code",
   "execution_count": 2,
   "id": "cb555bb9",
   "metadata": {},
   "outputs": [
    {
     "name": "stdout",
     "output_type": "stream",
     "text": [
      "Final Price: 450.0\n"
     ]
    }
   ],
   "source": [
    "try:\n",
    "    # Prompt user for input\n",
    "    price = float(input(\"Enter the original price: \"))\n",
    "    discount_percent = float(input(\"Enter the discount percentage: \"))\n",
    "\n",
    "    # Calculate final price\n",
    "    final_price = calculate_discount(price, discount_percent)\n",
    "\n",
    "    print(f\"Final Price: {final_price}\")\n",
    "except ValueError:\n",
    "    print(\"Please enter valid numbers for price and discount.\")"
   ]
  }
 ],
 "metadata": {
  "kernelspec": {
   "display_name": "Python 3",
   "language": "python",
   "name": "python3"
  },
  "language_info": {
   "codemirror_mode": {
    "name": "ipython",
    "version": 3
   },
   "file_extension": ".py",
   "mimetype": "text/x-python",
   "name": "python",
   "nbconvert_exporter": "python",
   "pygments_lexer": "ipython3",
   "version": "3.12.0"
  }
 },
 "nbformat": 4,
 "nbformat_minor": 5
}
